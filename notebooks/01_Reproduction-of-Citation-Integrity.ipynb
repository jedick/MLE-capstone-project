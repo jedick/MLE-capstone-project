{
 "cells": [
  {
   "cell_type": "markdown",
   "id": "1a2aa6b5-8253-48f1-bb6e-c20ade5eb851",
   "metadata": {},
   "source": [
    "# Reproduction of Citation-Integrity\n",
    "\n",
    "### Written by Jeffrey Dick on 2024-11-29\n",
    "\n",
    "This notebook presents my reproduction of the Citation-Integrity model.\n",
    "\n",
    "## Introduction to the model\n",
    "\n",
    "This description was adapted from [Sarol et al. (2024)](https://doi.org/10.1093/bioinformatics/btae420).\n",
    "\n",
    "- [Citation-Integrity](https://github.com/ScienceNLP-Lab/Citation-Integrity) is based on [MultiVerS](https://github.com/dwadden/multivers), which uses the Longformer encoder.\n",
    "    - The data processed by MultiVerS consist of **claims** and **abstracts**. The original model was applied to a version of the SciFact dataset with additional preprocessing for negative sampling ([Wadden et al., 2022](https://doi.org/10.48550/arXiv.2112.01640)).\n",
    "    - The Citation-Integrity dataset consists of **claims** and **evidence**. The evidence is treated like the abstract for the purpose of the MultiVerS model. *This is the dataset used for this notebook.*\n",
    "- MultiVerS performs two tasks independently:\n",
    "    - selection of rationale sentences from the abstracts\n",
    "    - label prediction for the claims\n",
    "- Based on poor performance in experiments, Citation-Integrity ignores the rational sentence selection in MultiVerS by setting the loss function weight to 0.\n",
    "- Compared to MultiVerS, Citation-Integrity adds three tokens to the claims as citation markers:\n",
    "    - [CIT] for the target citation\n",
    "    - [MULTI_CIT] for the target citation among other citations\n",
    "    - [OTHER_CIT] for non-target citations\n",
    "- Unlike MultiVerS, which selects rationale sentences from only the abstracts of cited articles, Citation-Integrity uses the full text of articles.\n",
    "    - The BM25 model is used to retrieve the top 60 sentences.\n",
    "    - The MonoT5 reranker is used to rerank those sentences.\n",
    "    - The top-k (5, 10, or 20 in experiments) sentences are used as evidence sentences.\n",
    "- Labels:\n",
    "    - The ACCURATE and NOT_ACCURATE labels in the Citation-Integrity dataset have been changed to SUPPORT and REFUTE for consistency with the MultiVerS codebase.\n",
    "    - The NEI label stands for Not Enough Information and corrsponds with the IRRELEVANT label in the Citation-Integrity paper (Sarol et al., 2024).\n",
    "- The baseline model in Citation-Integrity is MultiVerS trained on HealthVER.\n",
    "- I used the baseline model as the starting point for training on the Citation-Integrity dataset.\n",
    "\n",
    "## Model parameters and checkpoints\n",
    "\n",
    "The predictions made by the model at four checkpoints are compared below.\n",
    "These checkpoints are:\n",
    "\n",
    "- `bestModel-001.ckpt`: This is the best model from the [Citation-Integrity](https://github.com/ScienceNLP-Lab/Citation-Integrity) repository and was downloaded from [Google Drive](https://drive.google.com/drive/u/0/folders/11b6Z8iv2FXObWmLaqfYzgUQsaL4QgTT2?q=parent:11b6Z8iv2FXObWmLaqfYzgUQsaL4QgTT2).\n",
    "- `citint_20241127.ckpt`: This is my first reproduction of the Citation-Integrity model. Except for modification made to `requirements.txt` and imported packages, the codebase is identical to [this commit of Citation-Integrity](https://github.com/ScienceNLP-Lab/Citation-Integrity/commit/277152f9dfe3873455220f4cd15269474ab15617). This corresponds to commit [e10022](https://github.com/jedick/MLE-capstone-project/commit/e10022ecc4a24646708f6dd81e40f20208d62860).\n",
    "- `citint_20241128.ckpt`: As in previous, but with the dataset in `val_dataloader` changed from `\"test\"` to `\"val\"`. This corresponds to commit [cf8461](https://github.com/jedick/MLE-capstone-project/commit/cf846148c39557c45d99e2fcbb3409adea4fede3).\n",
    "- `citint_20241129.ckpt`: As in previous, but with the number of epochs in `train_target.py` changed from 5 to 20. This corresponds to commit [d9782c9](https://github.com/jedick/MLE-capstone-project/commit/d9782c98b4a017522388b11aafd25bec03507216).\n",
    "\n",
    "## Running the model\n",
    "\n",
    "See [baselines/README.md](https://github.com/jedick/MLE-capstone-project/tree/main/baselines) for details about setting up the model, including sources of data.\n",
    "Training took about 2.5 hours for 5 epochs and 10.5 hours for 20 epochs.\n",
    "Prediction took less than 2 minutes for each model.\n",
    "\n",
    "Training:\n",
    "```\n",
    "CUDA_LAUNCH_BLOCKING=1 TOKENIZERS_PARALLELISM=false python multivers_citint/train_target.py --dataset citint --gpus=1 --gradient_checkpointing > ./output.txt 2>&1\n",
    "```\n",
    "\n",
    "Prediction:\n",
    "```\n",
    "python multivers_citint/predict.py \\\n",
    "  --checkpoint_path=checkpoints/last.ckpt \\\n",
    "  --input_file=data_train/target/citint/claims_test.jsonl \\\n",
    "  --corpus_file=data_train/target/citint/corpus.jsonl \\\n",
    "  --output_file=citint_YYYYMMDD_predictions.jsonl\n",
    "```\n",
    "\n",
    "## Code to evaluate predictions\n",
    "\n",
    "This code reads the test dataset (`claims_test.jsonl`) and each of the model prediction files.\n",
    "The labels are extracted by using list comprehension to index into each of the dictionaries in the `evidence` column of the data frame created from the JSON files, e.g.:\n",
    "\n",
    "```\n",
    "y_pred = [list(my_dict.values())[0]['label'] for my_dict in evidence]\n",
    "```\n",
    "\n",
    "In the case of ground truth labels from the test dataset, NEI is present as an empty dictionary, which is handled by using a conditional expression in the list comprehension:\n",
    "\n",
    "```\n",
    "y_test = [list(my_dict.values())[0][0]['label'] if not my_dict == {} else 'NEI' for my_dict in evidence]\n",
    "```\n",
    "\n",
    "The `Counter()` class is used to count the numbers of each label in the models.\n",
    "[`f1_score()`](https://scikit-learn.org/stable/modules/generated/sklearn.metrics.f1_score.html) from scikit-learn is used to compute the F1 score."
   ]
  },
  {
   "cell_type": "code",
   "execution_count": 1,
   "id": "3b1d062b-91e9-470a-b338-912304a65e07",
   "metadata": {},
   "outputs": [],
   "source": [
    "import pandas as pd\n",
    "from sklearn.metrics import f1_score\n",
    "from collections import Counter\n",
    "\n",
    "# Initialize lists to store results\n",
    "counts = []\n",
    "f1_models = []\n",
    "y_preds = []\n",
    "\n",
    "# Read test dataset\n",
    "df = pd.read_json('../data/citint/claims_test.jsonl', lines=True)\n",
    "# Get evidence data\n",
    "evidence = df.evidence\n",
    "# Handle no evidence {} as NEI (not enough information)\n",
    "y_test = [list(my_dict.values())[0][0]['label'] if not my_dict == {} else 'NEI' for my_dict in evidence]\n",
    "counts.append(Counter(y_test))\n",
    "\n",
    "# List models with predictions\n",
    "models = ['bestModel-001', 'citint_20241127', 'citint_20241128', 'citint_20241129']\n",
    "# List labels in the order we want\n",
    "labels = ['SUPPORT', 'REFUTE', 'NEI']\n",
    "\n",
    "for model in models:\n",
    "    file = '../predictions/reproduction/' + model + '.jsonl'\n",
    "    # Read predictions as json\n",
    "    df = pd.read_json(file, lines=True)\n",
    "    # Get list of predictions\n",
    "    evidence = df.evidence\n",
    "    y_pred = [list(my_dict.values())[0]['label'] for my_dict in evidence]\n",
    "    y_preds.append(y_pred)\n",
    "    counts.append(Counter(y_pred))\n",
    "    # F1 score for each label\n",
    "    f1_labels = f1_score(y_test, y_pred, labels = labels, average = None)\n",
    "    # Micro and macro averages\n",
    "    f1_micro = f1_score(y_test, y_pred, labels = labels, average = 'micro')\n",
    "    f1_macro = f1_score(y_test, y_pred, labels = labels, average = 'macro')\n",
    "    # Add f1 scores to running list\n",
    "    f1_models.append([*f1_labels, f1_micro, f1_macro])"
   ]
  },
  {
   "cell_type": "markdown",
   "id": "6fca0ba1-16a7-42ef-a756-ceb2d55a932f",
   "metadata": {},
   "source": [
    "## Counts of classes\n",
    "\n",
    "This lists the counts of classes (labels) in the test dataset and in each of the model predictions."
   ]
  },
  {
   "cell_type": "code",
   "execution_count": 2,
   "id": "8b46fb77-1075-487e-95c5-59720864a2ab",
   "metadata": {},
   "outputs": [
    {
     "name": "stdout",
     "output_type": "stream",
     "text": [
      "                 SUPPORT  REFUTE  NEI\n",
      "test_set             386     170   50\n",
      "bestModel-001        390     131   85\n",
      "citint_20241127      348     189   69\n",
      "citint_20241128      347     191   68\n",
      "citint_20241129      448     110   48\n"
     ]
    }
   ],
   "source": [
    "test_and_models = ['test_set'] + models\n",
    "counts_df = pd.DataFrame(counts, test_and_models)[labels]\n",
    "print(counts_df)"
   ]
  },
  {
   "cell_type": "markdown",
   "id": "a2c39e1d-1688-4d37-93c1-bd6319b3820a",
   "metadata": {},
   "source": [
    "The best model from the Citation-Integrity repo (`bestModel-001`) underestimates the number of REFUTE claims and overestimates the number of NEI claims.\n",
    "The models I trained for 5 epochs (`citint_20241127` and `citint_20241128`) underestimate the number of SUPPORT claims, overestimate the number of REFUTE claims, and bring the number of NEI claims closer to ground truth.\n",
    "The 20-epoch model (`citint_20241129`) nearly equalizes the number of NEI claims but greatly overestimates SUPPORT and underestimates REFUTE.\n",
    "This is possibly a sign of overfitting."
   ]
  },
  {
   "cell_type": "markdown",
   "id": "c821c624-5315-43a8-a06e-a446faa5572f",
   "metadata": {},
   "source": [
    "## F1 scores\n",
    "\n",
    "This lists the F1 scores from the paper and for each of the models.\n",
    "F1 score is compted as F1 = 2TP / (2TP + FP + FN) for each label and for averages:\n",
    "- Using true positives (TP), false positives (FP), and false negatives (FN) for each label individually\n",
    "- Considering total true positives, false negatives and false positives in the dataset (micro average)\n",
    "- Averaging F1 scores of all labels without considering their proportion in the dataset (macro average)"
   ]
  },
  {
   "cell_type": "code",
   "execution_count": 3,
   "id": "79dafcb6-3184-49cd-9034-18a6acd1236a",
   "metadata": {},
   "outputs": [
    {
     "name": "stdout",
     "output_type": "stream",
     "text": [
      "                 SUPPORT  REFUTE   NEI  micro  macro\n",
      "paper               0.69    0.43  0.42   0.59   0.52\n",
      "bestModel-001       0.69    0.31  0.33   0.56   0.44\n",
      "citint_20241127     0.68    0.36  0.32   0.55   0.45\n",
      "citint_20241128     0.69    0.38  0.34   0.56   0.47\n",
      "citint_20241129     0.73    0.27  0.31   0.59   0.43\n"
     ]
    }
   ],
   "source": [
    "f1_columns = labels + ['micro', 'macro']\n",
    "# These values are from Table 4 of Sarol et al. (2024)\n",
    "f1_paper = [0.69, 0.43, 0.42, 0.59, 0.52]\n",
    "f1_combined = [f1_paper] + f1_models\n",
    "paper_and_models = ['paper'] + models\n",
    "f1_df = pd.DataFrame(f1_combined, paper_and_models, f1_columns)\n",
    "print(round(f1_df, 2))"
   ]
  },
  {
   "cell_type": "markdown",
   "id": "c4870809-1f4b-451d-9ed6-a38829cc41ed",
   "metadata": {},
   "source": [
    "## Confusion matrices\n",
    "\n",
    "Confusion matrices are shown for the “best model” from the Citation-Integrity repo and my own best model (`citint_20241128`)."
   ]
  },
  {
   "cell_type": "code",
   "execution_count": 4,
   "id": "a3e3fbc6-d887-465f-8aaf-877169d2fd30",
   "metadata": {},
   "outputs": [
    {
     "data": {
      "image/png": "[encoded data removed]",
      "text/plain": [
       "<Figure size 1000x400 with 4 Axes>"
      ]
     },
     "metadata": {},
     "output_type": "display_data"
    }
   ],
   "source": [
    "from matplotlib import pyplot as plt\n",
    "from sklearn.metrics import confusion_matrix, ConfusionMatrixDisplay\n",
    "\n",
    "fig, ax = plt.subplots(1, 2, figsize=(10,4))\n",
    "ax[0].set_title(\"bestModel-001\")\n",
    "ax[1].set_title(\"citint_20241128\")\n",
    "\n",
    "ConfusionMatrixDisplay(confusion_matrix(y_test, y_preds[0]), display_labels=sorted(labels)).plot(ax=ax[0], cmap='Blues')\n",
    "ConfusionMatrixDisplay(confusion_matrix(y_test, y_preds[2]), display_labels=sorted(labels)).plot(ax=ax[1], cmap='Blues')\n",
    "plt.tight_layout()"
   ]
  },
  {
   "cell_type": "markdown",
   "id": "7488b4ad-0942-4208-ae2a-3dd86f38fe50",
   "metadata": {},
   "source": [
    "## Discussion\n",
    "\n",
    "None of the models perfectly reproduces the results reported in the paper.\n",
    "Some of the models approach the F1 score for SUPPORT and REFUTE, but all of them show a higher F1 for NEI compared to the paper.\n",
    "Even the “best model” supplied by the authors shows lower performance in all categories except the F1 score for the ACCURATE label.\n",
    "\n",
    "Overall, the models are not very good at predicting REFUTE or NEI labels.\n",
    "One contributing factor may be class imbalance - there are many more SUPPORT labels in this dataset than other labels.\n",
    "To improve the performance, I will consider training on other datasets or doing negative sampling as suggested in the MultiVerS paper.\n",
    "\n",
    "### Number of epochs\n",
    "\n",
    "I trained models for 5 epochs (as used in [used in Citation-Integrity](https://github.com/ScienceNLP-Lab/Citation-Integrity/blob/277152f9dfe3873455220f4cd15269474ab15617/CitationAccuracyClassificationCode/train_target.py#L52)) or 20 epochs (as used in [used in MultiVerS](https://github.com/dwadden/multivers/blob/a6ce033f0e17ae38c1f102eae1ee4ca213fbbe2e/script/train_target.py#L51)).\n",
    "Considering the models I trained, training for 20 epochs (`citint_20241129`) results in better F1 scores for SUPPORT but lower scores for the other two labels, especially REFUTE.\n",
    "Therefore, training for 5 epochs is probably a better choice.\n",
    "\n",
    "### Datasets for training\n",
    "\n",
    "Among the 5-epoch models, `citint_20241128` shows slightly better performance than `citint_20241127` for all labels.\n",
    "`citint_20241128` also performs better than the “best model”, especially for REFUTE.\n",
    "This may indicate that using the *dev* set rather than the *test* set in `val_dataloader` produces a model with better predictive capabilities.\n",
    "The codebase for Citation-Integrity has a comment that [\"did change this val_dataloader to use \"Test\" data\"](https://github.com/ScienceNLP-Lab/Citation-Integrity/blob/277152f9dfe3873455220f4cd15269474ab15617/CitationAccuracyClassificationCode/multivers/data_train.py#L678), which was not present in the MultiVerS code.\n",
    "\n",
    "It is still not clear to me how the *validation* dataset (also referred to as the *development* dataset) is used in model training.\n",
    "Note that the *dev* dataset is not the same as the *test* set.\n",
    "Here is the number of lines in each file in the Citation-Integrity dataset:\n",
    "\n",
    "```\n",
    " 316 claims_dev.jsonl\n",
    " 606 claims_test.jsonl\n",
    "2137 claims_train.jsonl\n",
    "3063 corpus.jsonl\n",
    "```\n",
    "\n",
    "The [AI2 SciFact Leaderboard](https://leaderboard.allenai.org/scifact/submissions/get-started) describes “training on the train set alone and using the dev set for hyperparameter optimization and early stopping”, but goes on to say that the dev set can be used as additional training data.\n",
    "\n",
    "In any case, I do not think the *test* set should be assigned to `val_dataloader`, because this data loader is used not only for validation but also for fitting, as mentioned in the [PyTorch Lightning documentation](https://lightning.ai/docs/pytorch/stable/data/datamodule.html#val-dataloader)."
   ]
  }
 ],
 "metadata": {
  "kernelspec": {
   "display_name": "Python 3 (ipykernel)",
   "language": "python",
   "name": "python3"
  },
  "language_info": {
   "codemirror_mode": {
    "name": "ipython",
    "version": 3
   },
   "file_extension": ".py",
   "mimetype": "text/x-python",
   "name": "python",
   "nbconvert_exporter": "python",
   "pygments_lexer": "ipython3",
   "version": "3.12.8"
  }
 },
 "nbformat": 4,
 "nbformat_minor": 5
}
